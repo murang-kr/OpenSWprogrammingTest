{
  "nbformat": 4,
  "nbformat_minor": 0,
  "metadata": {
    "colab": {
      "provenance": []
    },
    "kernelspec": {
      "name": "python3",
      "display_name": "Python 3"
    },
    "language_info": {
      "name": "python"
    }
  },
  "cells": [
    {
      "cell_type": "code",
      "execution_count": 1,
      "metadata": {
        "colab": {
          "base_uri": "https://localhost:8080/"
        },
        "id": "NV8ej3zqCnhs",
        "outputId": "5b5af27f-3cc5-4106-c37d-63ddb8ffaccb"
      },
      "outputs": [
        {
          "output_type": "stream",
          "name": "stdout",
          "text": [
            "Value for 3\n",
            "Value for 3\n"
          ]
        }
      ],
      "source": [
        "#예제1\n",
        "\n",
        "class MyCollection:\n",
        "    def __getitem__(self, key):\n",
        "        return f\"Value for {key}\"\n",
        "\n",
        "collection = MyCollection()\n",
        "print(collection.__getitem__(3))\n",
        "print(collection[3])"
      ]
    },
    {
      "cell_type": "code",
      "source": [
        "#예제2\n",
        "\n",
        "import collections\n",
        "\n",
        "Card = collections.namedtuple('Card', ['rank', 'suit'])\n",
        "#튜플객체명 = collection.namedtuple('객체이름', ['특성들'])\n",
        "\n",
        "class FrenchDeck:\n",
        "    ranks = [str(n) for n in range(2, 11)] + list('JQKA') # 2~10, J, Q, K, A\n",
        "    suits = 'spades diamonds clubs hearts'.split()\n",
        "\n",
        "    def __init__(self):\n",
        "        self._cards = [Card(rank, suit) for suit in self.suits for rank in self.ranks]\n",
        "\n",
        "    def __len__(self):\n",
        "        return len(self._cards)\n",
        "\n",
        "    def __getitem__(self, position):\n",
        "        return self._cards[position]\n"
      ],
      "metadata": {
        "id": "zitVYvZTDUEd"
      },
      "execution_count": 2,
      "outputs": []
    },
    {
      "cell_type": "code",
      "source": [
        "#예제3\n",
        "\n",
        "beer_card = Card('7', 'diamonds')\n",
        "beer_card"
      ],
      "metadata": {
        "colab": {
          "base_uri": "https://localhost:8080/"
        },
        "id": "qfjeqn_8E2YO",
        "outputId": "e4d6863d-37b1-4d4d-8bef-0928d4ab9d73"
      },
      "execution_count": 3,
      "outputs": [
        {
          "output_type": "execute_result",
          "data": {
            "text/plain": [
              "Card(rank='7', suit='diamonds')"
            ]
          },
          "metadata": {},
          "execution_count": 3
        }
      ]
    },
    {
      "cell_type": "code",
      "source": [
        "#예제4\n",
        "\n",
        "deck = FrenchDeck()\n",
        "print(f\"Ranks: {deck.ranks}\")\n",
        "print(f\"len: {len(deck)}\")"
      ],
      "metadata": {
        "colab": {
          "base_uri": "https://localhost:8080/"
        },
        "id": "tHBS2sxKE_K8",
        "outputId": "eea73d54-f1fd-4320-c772-262a22ee007c"
      },
      "execution_count": 4,
      "outputs": [
        {
          "output_type": "stream",
          "name": "stdout",
          "text": [
            "Ranks: ['2', '3', '4', '5', '6', '7', '8', '9', '10', 'J', 'Q', 'K', 'A']\n",
            "len: 52\n"
          ]
        }
      ]
    },
    {
      "cell_type": "code",
      "source": [
        "#예제5\n",
        "\n",
        "print(deck[0])\n",
        "print(deck[-1])"
      ],
      "metadata": {
        "colab": {
          "base_uri": "https://localhost:8080/"
        },
        "id": "6_qKunqsFLl8",
        "outputId": "f88365a5-043c-4053-a1bd-4c94a2e4d1cf"
      },
      "execution_count": 5,
      "outputs": [
        {
          "output_type": "stream",
          "name": "stdout",
          "text": [
            "Card(rank='2', suit='spades')\n",
            "Card(rank='A', suit='hearts')\n"
          ]
        }
      ]
    },
    {
      "cell_type": "code",
      "source": [
        "#예제6\n",
        "\n",
        "from random import choice\n",
        "print(choice(deck))\n",
        "print(choice(deck))\n",
        "print(choice(deck))"
      ],
      "metadata": {
        "colab": {
          "base_uri": "https://localhost:8080/"
        },
        "id": "6HHfovIGF9km",
        "outputId": "779fd400-b2bb-4e7e-cf8c-21d6e7603c3c"
      },
      "execution_count": 6,
      "outputs": [
        {
          "output_type": "stream",
          "name": "stdout",
          "text": [
            "Card(rank='2', suit='hearts')\n",
            "Card(rank='Q', suit='diamonds')\n",
            "Card(rank='2', suit='diamonds')\n"
          ]
        }
      ]
    },
    {
      "cell_type": "code",
      "source": [
        "#예제7\n",
        "\n",
        "deck[:3]"
      ],
      "metadata": {
        "colab": {
          "base_uri": "https://localhost:8080/"
        },
        "id": "LUHrT3SOGd5-",
        "outputId": "88b840cd-cabb-4e71-c456-0e915da1271e"
      },
      "execution_count": 7,
      "outputs": [
        {
          "output_type": "execute_result",
          "data": {
            "text/plain": [
              "[Card(rank='2', suit='spades'),\n",
              " Card(rank='3', suit='spades'),\n",
              " Card(rank='4', suit='spades')]"
            ]
          },
          "metadata": {},
          "execution_count": 7
        }
      ]
    },
    {
      "cell_type": "code",
      "source": [
        "#예제8\n",
        "\n",
        "deck[12::13]"
      ],
      "metadata": {
        "colab": {
          "base_uri": "https://localhost:8080/"
        },
        "id": "rtRud8ciGnV2",
        "outputId": "2e67d702-ac15-4233-ac6a-0a9452db4713"
      },
      "execution_count": 8,
      "outputs": [
        {
          "output_type": "execute_result",
          "data": {
            "text/plain": [
              "[Card(rank='A', suit='spades'),\n",
              " Card(rank='A', suit='diamonds'),\n",
              " Card(rank='A', suit='clubs'),\n",
              " Card(rank='A', suit='hearts')]"
            ]
          },
          "metadata": {},
          "execution_count": 8
        }
      ]
    },
    {
      "cell_type": "code",
      "source": [
        "#예제9\n",
        "\n",
        "for card in deck:\n",
        "    print(card)"
      ],
      "metadata": {
        "colab": {
          "base_uri": "https://localhost:8080/"
        },
        "id": "aSfzOoCuGsKF",
        "outputId": "cc0ba4ce-6b01-46c9-8395-056e6655141b"
      },
      "execution_count": 9,
      "outputs": [
        {
          "output_type": "stream",
          "name": "stdout",
          "text": [
            "Card(rank='2', suit='spades')\n",
            "Card(rank='3', suit='spades')\n",
            "Card(rank='4', suit='spades')\n",
            "Card(rank='5', suit='spades')\n",
            "Card(rank='6', suit='spades')\n",
            "Card(rank='7', suit='spades')\n",
            "Card(rank='8', suit='spades')\n",
            "Card(rank='9', suit='spades')\n",
            "Card(rank='10', suit='spades')\n",
            "Card(rank='J', suit='spades')\n",
            "Card(rank='Q', suit='spades')\n",
            "Card(rank='K', suit='spades')\n",
            "Card(rank='A', suit='spades')\n",
            "Card(rank='2', suit='diamonds')\n",
            "Card(rank='3', suit='diamonds')\n",
            "Card(rank='4', suit='diamonds')\n",
            "Card(rank='5', suit='diamonds')\n",
            "Card(rank='6', suit='diamonds')\n",
            "Card(rank='7', suit='diamonds')\n",
            "Card(rank='8', suit='diamonds')\n",
            "Card(rank='9', suit='diamonds')\n",
            "Card(rank='10', suit='diamonds')\n",
            "Card(rank='J', suit='diamonds')\n",
            "Card(rank='Q', suit='diamonds')\n",
            "Card(rank='K', suit='diamonds')\n",
            "Card(rank='A', suit='diamonds')\n",
            "Card(rank='2', suit='clubs')\n",
            "Card(rank='3', suit='clubs')\n",
            "Card(rank='4', suit='clubs')\n",
            "Card(rank='5', suit='clubs')\n",
            "Card(rank='6', suit='clubs')\n",
            "Card(rank='7', suit='clubs')\n",
            "Card(rank='8', suit='clubs')\n",
            "Card(rank='9', suit='clubs')\n",
            "Card(rank='10', suit='clubs')\n",
            "Card(rank='J', suit='clubs')\n",
            "Card(rank='Q', suit='clubs')\n",
            "Card(rank='K', suit='clubs')\n",
            "Card(rank='A', suit='clubs')\n",
            "Card(rank='2', suit='hearts')\n",
            "Card(rank='3', suit='hearts')\n",
            "Card(rank='4', suit='hearts')\n",
            "Card(rank='5', suit='hearts')\n",
            "Card(rank='6', suit='hearts')\n",
            "Card(rank='7', suit='hearts')\n",
            "Card(rank='8', suit='hearts')\n",
            "Card(rank='9', suit='hearts')\n",
            "Card(rank='10', suit='hearts')\n",
            "Card(rank='J', suit='hearts')\n",
            "Card(rank='Q', suit='hearts')\n",
            "Card(rank='K', suit='hearts')\n",
            "Card(rank='A', suit='hearts')\n"
          ]
        }
      ]
    },
    {
      "cell_type": "code",
      "source": [
        "#예제10\n",
        "\n",
        "for card in reversed(deck):\n",
        "    print(card)"
      ],
      "metadata": {
        "colab": {
          "base_uri": "https://localhost:8080/"
        },
        "id": "ft3icMhbGyp9",
        "outputId": "2f744b58-199f-4b22-e7a0-4409bea50498"
      },
      "execution_count": 10,
      "outputs": [
        {
          "output_type": "stream",
          "name": "stdout",
          "text": [
            "Card(rank='A', suit='hearts')\n",
            "Card(rank='K', suit='hearts')\n",
            "Card(rank='Q', suit='hearts')\n",
            "Card(rank='J', suit='hearts')\n",
            "Card(rank='10', suit='hearts')\n",
            "Card(rank='9', suit='hearts')\n",
            "Card(rank='8', suit='hearts')\n",
            "Card(rank='7', suit='hearts')\n",
            "Card(rank='6', suit='hearts')\n",
            "Card(rank='5', suit='hearts')\n",
            "Card(rank='4', suit='hearts')\n",
            "Card(rank='3', suit='hearts')\n",
            "Card(rank='2', suit='hearts')\n",
            "Card(rank='A', suit='clubs')\n",
            "Card(rank='K', suit='clubs')\n",
            "Card(rank='Q', suit='clubs')\n",
            "Card(rank='J', suit='clubs')\n",
            "Card(rank='10', suit='clubs')\n",
            "Card(rank='9', suit='clubs')\n",
            "Card(rank='8', suit='clubs')\n",
            "Card(rank='7', suit='clubs')\n",
            "Card(rank='6', suit='clubs')\n",
            "Card(rank='5', suit='clubs')\n",
            "Card(rank='4', suit='clubs')\n",
            "Card(rank='3', suit='clubs')\n",
            "Card(rank='2', suit='clubs')\n",
            "Card(rank='A', suit='diamonds')\n",
            "Card(rank='K', suit='diamonds')\n",
            "Card(rank='Q', suit='diamonds')\n",
            "Card(rank='J', suit='diamonds')\n",
            "Card(rank='10', suit='diamonds')\n",
            "Card(rank='9', suit='diamonds')\n",
            "Card(rank='8', suit='diamonds')\n",
            "Card(rank='7', suit='diamonds')\n",
            "Card(rank='6', suit='diamonds')\n",
            "Card(rank='5', suit='diamonds')\n",
            "Card(rank='4', suit='diamonds')\n",
            "Card(rank='3', suit='diamonds')\n",
            "Card(rank='2', suit='diamonds')\n",
            "Card(rank='A', suit='spades')\n",
            "Card(rank='K', suit='spades')\n",
            "Card(rank='Q', suit='spades')\n",
            "Card(rank='J', suit='spades')\n",
            "Card(rank='10', suit='spades')\n",
            "Card(rank='9', suit='spades')\n",
            "Card(rank='8', suit='spades')\n",
            "Card(rank='7', suit='spades')\n",
            "Card(rank='6', suit='spades')\n",
            "Card(rank='5', suit='spades')\n",
            "Card(rank='4', suit='spades')\n",
            "Card(rank='3', suit='spades')\n",
            "Card(rank='2', suit='spades')\n"
          ]
        }
      ]
    },
    {
      "cell_type": "code",
      "source": [
        "#예제11\n",
        "\n",
        "suit_values = dict(spades = 3, hearts = 2, diamonds = 1, clubs = 0)\n",
        "\n",
        "def spades_high(card):\n",
        "    rank_value = FrenchDeck.ranks.index(card.rank)\n",
        "    return rank_value * len(suit_values) + suit_values[card.suit]\n",
        "\n",
        "spades_high(beer_card)"
      ],
      "metadata": {
        "colab": {
          "base_uri": "https://localhost:8080/"
        },
        "id": "5KRbpvJ0G49O",
        "outputId": "16170043-f669-409f-e207-41d494eb0f73"
      },
      "execution_count": 13,
      "outputs": [
        {
          "output_type": "execute_result",
          "data": {
            "text/plain": [
              "21"
            ]
          },
          "metadata": {},
          "execution_count": 13
        }
      ]
    },
    {
      "cell_type": "code",
      "source": [
        "for card in sorted(deck, key = spades_high):\n",
        "    print('The rank of {} is {},'.format(card, spades_high(card)))"
      ],
      "metadata": {
        "colab": {
          "base_uri": "https://localhost:8080/"
        },
        "id": "OYbLjopfHiCW",
        "outputId": "dccc5735-9492-4bc5-ec56-b08d1e18ef62"
      },
      "execution_count": 14,
      "outputs": [
        {
          "output_type": "stream",
          "name": "stdout",
          "text": [
            "The rank of Card(rank='2', suit='clubs') is 0,\n",
            "The rank of Card(rank='2', suit='diamonds') is 1,\n",
            "The rank of Card(rank='2', suit='hearts') is 2,\n",
            "The rank of Card(rank='2', suit='spades') is 3,\n",
            "The rank of Card(rank='3', suit='clubs') is 4,\n",
            "The rank of Card(rank='3', suit='diamonds') is 5,\n",
            "The rank of Card(rank='3', suit='hearts') is 6,\n",
            "The rank of Card(rank='3', suit='spades') is 7,\n",
            "The rank of Card(rank='4', suit='clubs') is 8,\n",
            "The rank of Card(rank='4', suit='diamonds') is 9,\n",
            "The rank of Card(rank='4', suit='hearts') is 10,\n",
            "The rank of Card(rank='4', suit='spades') is 11,\n",
            "The rank of Card(rank='5', suit='clubs') is 12,\n",
            "The rank of Card(rank='5', suit='diamonds') is 13,\n",
            "The rank of Card(rank='5', suit='hearts') is 14,\n",
            "The rank of Card(rank='5', suit='spades') is 15,\n",
            "The rank of Card(rank='6', suit='clubs') is 16,\n",
            "The rank of Card(rank='6', suit='diamonds') is 17,\n",
            "The rank of Card(rank='6', suit='hearts') is 18,\n",
            "The rank of Card(rank='6', suit='spades') is 19,\n",
            "The rank of Card(rank='7', suit='clubs') is 20,\n",
            "The rank of Card(rank='7', suit='diamonds') is 21,\n",
            "The rank of Card(rank='7', suit='hearts') is 22,\n",
            "The rank of Card(rank='7', suit='spades') is 23,\n",
            "The rank of Card(rank='8', suit='clubs') is 24,\n",
            "The rank of Card(rank='8', suit='diamonds') is 25,\n",
            "The rank of Card(rank='8', suit='hearts') is 26,\n",
            "The rank of Card(rank='8', suit='spades') is 27,\n",
            "The rank of Card(rank='9', suit='clubs') is 28,\n",
            "The rank of Card(rank='9', suit='diamonds') is 29,\n",
            "The rank of Card(rank='9', suit='hearts') is 30,\n",
            "The rank of Card(rank='9', suit='spades') is 31,\n",
            "The rank of Card(rank='10', suit='clubs') is 32,\n",
            "The rank of Card(rank='10', suit='diamonds') is 33,\n",
            "The rank of Card(rank='10', suit='hearts') is 34,\n",
            "The rank of Card(rank='10', suit='spades') is 35,\n",
            "The rank of Card(rank='J', suit='clubs') is 36,\n",
            "The rank of Card(rank='J', suit='diamonds') is 37,\n",
            "The rank of Card(rank='J', suit='hearts') is 38,\n",
            "The rank of Card(rank='J', suit='spades') is 39,\n",
            "The rank of Card(rank='Q', suit='clubs') is 40,\n",
            "The rank of Card(rank='Q', suit='diamonds') is 41,\n",
            "The rank of Card(rank='Q', suit='hearts') is 42,\n",
            "The rank of Card(rank='Q', suit='spades') is 43,\n",
            "The rank of Card(rank='K', suit='clubs') is 44,\n",
            "The rank of Card(rank='K', suit='diamonds') is 45,\n",
            "The rank of Card(rank='K', suit='hearts') is 46,\n",
            "The rank of Card(rank='K', suit='spades') is 47,\n",
            "The rank of Card(rank='A', suit='clubs') is 48,\n",
            "The rank of Card(rank='A', suit='diamonds') is 49,\n",
            "The rank of Card(rank='A', suit='hearts') is 50,\n",
            "The rank of Card(rank='A', suit='spades') is 51,\n"
          ]
        }
      ]
    },
    {
      "cell_type": "code",
      "source": [
        "#예제12\n",
        "import math\n",
        "\n",
        "\n",
        "class Vector:\n",
        "    def __init__(self, x=0, y=0):\n",
        "        self.x = x\n",
        "        self.y = y\n",
        "\n",
        "    def __repr__(self):\n",
        "        return 'Vector(%r, %r)' % (self.x, self.y)\n",
        "\n",
        "    def __abs__(self):\n",
        "        return math.hypot(self.x, self.y)\n",
        "\n",
        "    def __bool__(self):\n",
        "        return bool(abs(self))\n",
        "\n",
        "    def __add__(self, other):\n",
        "        x = self.x + other.x\n",
        "        y = self.y + other.y\n",
        "        return Vector(x, y)\n",
        "\n",
        "    def __mul__(self, scalar):\n",
        "        return Vector(self.x * scalar, self.y * scalar)"
      ],
      "metadata": {
        "id": "WtuUiWn-Hv8-"
      },
      "execution_count": 20,
      "outputs": []
    },
    {
      "cell_type": "code",
      "source": [
        "v = Vector(3, 4)\n",
        "abs(v)"
      ],
      "metadata": {
        "colab": {
          "base_uri": "https://localhost:8080/"
        },
        "id": "SNq7jl3LIxBG",
        "outputId": "cb0aca83-ed33-4261-fbc9-3013b82206c0"
      },
      "execution_count": 21,
      "outputs": [
        {
          "output_type": "execute_result",
          "data": {
            "text/plain": [
              "5.0"
            ]
          },
          "metadata": {},
          "execution_count": 21
        }
      ]
    },
    {
      "cell_type": "code",
      "source": [
        "v * 3\n",
        "abs(v * 3)"
      ],
      "metadata": {
        "colab": {
          "base_uri": "https://localhost:8080/"
        },
        "id": "jDxspES0JXX_",
        "outputId": "250e691f-05d2-4c3d-c4e6-270e450166b1"
      },
      "execution_count": 22,
      "outputs": [
        {
          "output_type": "execute_result",
          "data": {
            "text/plain": [
              "15.0"
            ]
          },
          "metadata": {},
          "execution_count": 22
        }
      ]
    },
    {
      "cell_type": "code",
      "source": [
        "v1 = Vector(2, 4)\n",
        "v2 = Vector(2, 1)\n",
        "v1+v2"
      ],
      "metadata": {
        "colab": {
          "base_uri": "https://localhost:8080/"
        },
        "id": "jVfpbPpMJbxn",
        "outputId": "393e029a-b98f-4b0d-c60e-b7638d523f87"
      },
      "execution_count": 23,
      "outputs": [
        {
          "output_type": "execute_result",
          "data": {
            "text/plain": [
              "Vector(4, 5)"
            ]
          },
          "metadata": {},
          "execution_count": 23
        }
      ]
    },
    {
      "cell_type": "code",
      "source": [
        "#예제13\n",
        "\n",
        "v"
      ],
      "metadata": {
        "colab": {
          "base_uri": "https://localhost:8080/"
        },
        "id": "Vna62UwLIrU-",
        "outputId": "2cf4b854-9294-4548-83b0-cc4c978ad6f6"
      },
      "execution_count": 24,
      "outputs": [
        {
          "output_type": "execute_result",
          "data": {
            "text/plain": [
              "Vector(3, 4)"
            ]
          },
          "metadata": {},
          "execution_count": 24
        }
      ]
    },
    {
      "cell_type": "code",
      "source": [
        "#예제14\n",
        "class Test:\n",
        "    def __repr__(self):\n",
        "        return 'repr test'\n",
        "\n",
        "    def __str__(self):\n",
        "        return 'str test'\n",
        "\n",
        "test = Test()\n",
        "test, str(test)"
      ],
      "metadata": {
        "colab": {
          "base_uri": "https://localhost:8080/"
        },
        "id": "F3YP5mSlJjZC",
        "outputId": "d6d86521-c7fc-48c3-a26f-3d910f2cfaac"
      },
      "execution_count": 27,
      "outputs": [
        {
          "output_type": "execute_result",
          "data": {
            "text/plain": [
              "(repr test, 'str test')"
            ]
          },
          "metadata": {},
          "execution_count": 27
        }
      ]
    },
    {
      "cell_type": "code",
      "source": [
        "#예제15\n",
        "\n",
        "print(str(test))"
      ],
      "metadata": {
        "colab": {
          "base_uri": "https://localhost:8080/"
        },
        "id": "aZik3gJzKbZn",
        "outputId": "f6698c4c-e6da-41f5-c143-c3d5b7b7c38a"
      },
      "execution_count": 28,
      "outputs": [
        {
          "output_type": "stream",
          "name": "stdout",
          "text": [
            "str test\n"
          ]
        }
      ]
    }
  ]
}